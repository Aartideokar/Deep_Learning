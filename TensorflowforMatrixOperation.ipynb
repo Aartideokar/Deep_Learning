{
 "cells": [
  {
   "cell_type": "code",
   "execution_count": 1,
   "id": "12d6c1fe",
   "metadata": {},
   "outputs": [],
   "source": [
    "import tensorflow as tf"
   ]
  },
  {
   "cell_type": "markdown",
   "id": "9668018a",
   "metadata": {},
   "source": [
    "# Creating matrices of different shape using constant values with the help of tensorflow library."
   ]
  },
  {
   "cell_type": "code",
   "execution_count": 2,
   "id": "97798a96",
   "metadata": {},
   "outputs": [
    {
     "data": {
      "text/plain": [
       "<tf.Tensor: shape=(3, 2), dtype=int32, numpy=\n",
       "array([[1, 2],\n",
       "       [3, 4],\n",
       "       [5, 6]])>"
      ]
     },
     "execution_count": 2,
     "metadata": {},
     "output_type": "execute_result"
    }
   ],
   "source": [
    "X = tf.constant([1,2,3,4,5,6],shape=[3,2])\n",
    "X"
   ]
  },
  {
   "cell_type": "code",
   "execution_count": 3,
   "id": "1e4dfe0e",
   "metadata": {},
   "outputs": [
    {
     "data": {
      "text/plain": [
       "<tf.Tensor: shape=(2, 3), dtype=int32, numpy=\n",
       "array([[1, 2, 3],\n",
       "       [4, 5, 6]])>"
      ]
     },
     "execution_count": 3,
     "metadata": {},
     "output_type": "execute_result"
    }
   ],
   "source": [
    "Y = tf.constant([1,2,3,4,5,6],shape=[2,3])\n",
    "Y"
   ]
  },
  {
   "cell_type": "markdown",
   "id": "8145ef68",
   "metadata": {},
   "source": [
    "# Create a 4*4 square matrix A with constant values from 1 to 16."
   ]
  },
  {
   "cell_type": "code",
   "execution_count": 4,
   "id": "fc0a6d80",
   "metadata": {},
   "outputs": [
    {
     "data": {
      "text/plain": [
       "<tf.Tensor: shape=(4, 4), dtype=int32, numpy=\n",
       "array([[ 1,  2,  3,  4],\n",
       "       [ 5,  6,  7,  8],\n",
       "       [ 9, 10, 11, 12],\n",
       "       [13, 14, 15, 16]])>"
      ]
     },
     "execution_count": 4,
     "metadata": {},
     "output_type": "execute_result"
    }
   ],
   "source": [
    "Z = tf.constant([1,2,3,4,5,6,7,8,9,10,11,12,13,14,15,16],shape=[4,4])\n",
    "Z"
   ]
  },
  {
   "cell_type": "markdown",
   "id": "8d49a781",
   "metadata": {},
   "source": [
    "Demonstrate matrix multiplication with the help of function of tensorflow library"
   ]
  },
  {
   "cell_type": "code",
   "execution_count": 5,
   "id": "ae1a01b4",
   "metadata": {},
   "outputs": [
    {
     "data": {
      "text/plain": [
       "<tf.Tensor: shape=(3, 3), dtype=int32, numpy=\n",
       "array([[ 9, 12, 15],\n",
       "       [19, 26, 33],\n",
       "       [29, 40, 51]])>"
      ]
     },
     "execution_count": 5,
     "metadata": {},
     "output_type": "execute_result"
    }
   ],
   "source": [
    "Z=tf.matmul(X,Y)\n",
    "Z"
   ]
  },
  {
   "cell_type": "code",
   "execution_count": 6,
   "id": "0680d40d",
   "metadata": {},
   "outputs": [
    {
     "data": {
      "text/plain": [
       "<tf.Tensor: shape=(2, 3), dtype=int32, numpy=\n",
       "array([[1, 2, 3],\n",
       "       [4, 5, 6]])>"
      ]
     },
     "execution_count": 6,
     "metadata": {},
     "output_type": "execute_result"
    }
   ],
   "source": [
    "A = tf.constant([1,2,3,4,5,6],shape=[2,3])\n",
    "A"
   ]
  },
  {
   "cell_type": "code",
   "execution_count": 7,
   "id": "77bef91c",
   "metadata": {},
   "outputs": [
    {
     "data": {
      "text/plain": [
       "<tf.Tensor: shape=(3, 2), dtype=int32, numpy=\n",
       "array([[ 7,  8],\n",
       "       [ 9, 10],\n",
       "       [11, 12]])>"
      ]
     },
     "execution_count": 7,
     "metadata": {},
     "output_type": "execute_result"
    }
   ],
   "source": [
    "B = tf.constant([7,8,9,10,11,12],shape=[3,2])\n",
    "B"
   ]
  },
  {
   "cell_type": "code",
   "execution_count": 8,
   "id": "525914ea",
   "metadata": {},
   "outputs": [
    {
     "data": {
      "text/plain": [
       "<tf.Tensor: shape=(2, 2), dtype=int32, numpy=\n",
       "array([[ 58,  64],\n",
       "       [139, 154]])>"
      ]
     },
     "execution_count": 8,
     "metadata": {},
     "output_type": "execute_result"
    }
   ],
   "source": [
    "C=tf.matmul(A,B)\n",
    "C"
   ]
  },
  {
   "cell_type": "markdown",
   "id": "d9c8894d",
   "metadata": {},
   "source": [
    "With the help of tensorflow function create matrix using random values."
   ]
  },
  {
   "cell_type": "markdown",
   "id": "7b988c1d",
   "metadata": {},
   "source": [
    "Note:- Shape,Range1,Range2,Datatype of the argument."
   ]
  },
  {
   "cell_type": "code",
   "execution_count": 9,
   "id": "2b64650c",
   "metadata": {},
   "outputs": [
    {
     "data": {
      "text/plain": [
       "<tf.Tensor: shape=(2, 2), dtype=int32, numpy=\n",
       "array([[4, 7],\n",
       "       [4, 4]])>"
      ]
     },
     "execution_count": 9,
     "metadata": {},
     "output_type": "execute_result"
    }
   ],
   "source": [
    "A= tf.random.uniform([2,2],minval=3,maxval=10,dtype=tf.int32)\n",
    "A"
   ]
  },
  {
   "cell_type": "code",
   "execution_count": 10,
   "id": "0fffcaf7",
   "metadata": {},
   "outputs": [
    {
     "data": {
      "text/plain": [
       "<tf.Tensor: shape=(3, 3), dtype=float32, numpy=\n",
       "array([[9.94434  , 5.020261 , 7.2950416],\n",
       "       [6.810136 , 9.122917 , 3.7730494],\n",
       "       [4.284432 , 3.5842047, 3.5325606]], dtype=float32)>"
      ]
     },
     "execution_count": 10,
     "metadata": {},
     "output_type": "execute_result"
    }
   ],
   "source": [
    "B= tf.random.uniform([3,3],minval=3,maxval=10,dtype=tf.float32)\n",
    "B"
   ]
  },
  {
   "cell_type": "markdown",
   "id": "f5c4fe1b",
   "metadata": {},
   "source": [
    "Create a Matrix C using random values of float datatype having shape 3*2"
   ]
  },
  {
   "cell_type": "code",
   "execution_count": 11,
   "id": "f8de44ce",
   "metadata": {},
   "outputs": [
    {
     "data": {
      "text/plain": [
       "<tf.Tensor: shape=(3, 2), dtype=float32, numpy=\n",
       "array([[40.640007, 39.361526],\n",
       "       [18.58648 , 11.213632],\n",
       "       [33.528328, 46.180786]], dtype=float32)>"
      ]
     },
     "execution_count": 11,
     "metadata": {},
     "output_type": "execute_result"
    }
   ],
   "source": [
    "C = tf.random.uniform([3,2],minval=10,maxval=50,dtype=tf.float32)\n",
    "C"
   ]
  },
  {
   "cell_type": "code",
   "execution_count": 12,
   "id": "2c6d2529",
   "metadata": {},
   "outputs": [],
   "source": [
    "eig_values,eig_vectors=tf.linalg.eigh(B)"
   ]
  },
  {
   "cell_type": "code",
   "execution_count": 13,
   "id": "b34e8723",
   "metadata": {},
   "outputs": [
    {
     "data": {
      "text/plain": [
       "<tf.Tensor: shape=(3,), dtype=float32, numpy=array([ 1.3764155,  2.780762 , 18.442646 ], dtype=float32)>"
      ]
     },
     "execution_count": 13,
     "metadata": {},
     "output_type": "execute_result"
    }
   ],
   "source": [
    "eig_values"
   ]
  },
  {
   "cell_type": "code",
   "execution_count": 14,
   "id": "a887ca36",
   "metadata": {},
   "outputs": [
    {
     "data": {
      "text/plain": [
       "<tf.Tensor: shape=(3, 3), dtype=float32, numpy=\n",
       "array([[ 0.4011124 , -0.60604703,  0.6868887 ],\n",
       "       [ 0.06996883,  0.7679345 ,  0.6366956 ],\n",
       "       [-0.9133528 , -0.20732562,  0.35043237]], dtype=float32)>"
      ]
     },
     "execution_count": 14,
     "metadata": {},
     "output_type": "execute_result"
    }
   ],
   "source": [
    "eig_vectors"
   ]
  },
  {
   "cell_type": "code",
   "execution_count": null,
   "id": "833f853e",
   "metadata": {},
   "outputs": [],
   "source": []
  },
  {
   "cell_type": "code",
   "execution_count": null,
   "id": "d2c5cb11",
   "metadata": {},
   "outputs": [],
   "source": []
  }
 ],
 "metadata": {
  "kernelspec": {
   "display_name": "Python 3 (ipykernel)",
   "language": "python",
   "name": "python3"
  },
  "language_info": {
   "codemirror_mode": {
    "name": "ipython",
    "version": 3
   },
   "file_extension": ".py",
   "mimetype": "text/x-python",
   "name": "python",
   "nbconvert_exporter": "python",
   "pygments_lexer": "ipython3",
   "version": "3.10.9"
  }
 },
 "nbformat": 4,
 "nbformat_minor": 5
}

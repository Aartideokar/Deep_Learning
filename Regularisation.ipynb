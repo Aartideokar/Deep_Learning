{
 "cells": [
  {
   "cell_type": "markdown",
   "id": "91bdb67d",
   "metadata": {},
   "source": [
    "# Implementing regularisation to avoid overfitting in binary classification."
   ]
  },
  {
   "cell_type": "code",
   "execution_count": 1,
   "id": "28ab4e26",
   "metadata": {},
   "outputs": [],
   "source": [
    "from sklearn.datasets import make_moons\n",
    "from keras.models import Sequential \n",
    "from keras.layers import Dense"
   ]
  },
  {
   "cell_type": "code",
   "execution_count": 2,
   "id": "1959bd5f",
   "metadata": {},
   "outputs": [],
   "source": [
    "X,y=make_moons(n_samples=100,noise=0.2,random_state=1)"
   ]
  },
  {
   "cell_type": "code",
   "execution_count": 3,
   "id": "4e358a87",
   "metadata": {},
   "outputs": [
    {
     "data": {
      "text/plain": [
       "(100, 2)"
      ]
     },
     "execution_count": 3,
     "metadata": {},
     "output_type": "execute_result"
    }
   ],
   "source": [
    "X.shape"
   ]
  },
  {
   "cell_type": "code",
   "execution_count": 4,
   "id": "5d555be7",
   "metadata": {},
   "outputs": [
    {
     "data": {
      "text/plain": [
       "(100,)"
      ]
     },
     "execution_count": 4,
     "metadata": {},
     "output_type": "execute_result"
    }
   ],
   "source": [
    "y.shape"
   ]
  },
  {
   "cell_type": "code",
   "execution_count": 5,
   "id": "3a2974d8",
   "metadata": {},
   "outputs": [],
   "source": [
    "X_train,Xtest=X[:30,:],X[30:,:]"
   ]
  },
  {
   "cell_type": "code",
   "execution_count": 6,
   "id": "408c22db",
   "metadata": {},
   "outputs": [],
   "source": [
    "Y_train,Ytest=y[:30],y[30:]"
   ]
  },
  {
   "cell_type": "code",
   "execution_count": 7,
   "id": "eda2eaa3",
   "metadata": {},
   "outputs": [],
   "source": [
    "model=Sequential()\n",
    "model.add(Dense(500,input_dim=2,activation='relu'))\n",
    "model.add(Dense(1,activation='sigmoid'))"
   ]
  },
  {
   "cell_type": "code",
   "execution_count": 8,
   "id": "92cded47",
   "metadata": {},
   "outputs": [],
   "source": [
    "model.compile(loss='binary_crossentropy',optimizer='adam',metrics='accuracy')"
   ]
  },
  {
   "cell_type": "code",
   "execution_count": null,
   "id": "2b94f567",
   "metadata": {},
   "outputs": [
    {
     "name": "stdout",
     "output_type": "stream",
     "text": [
      "Epoch 1/4000\n",
      "1/1 [==============================] - 1s 686ms/step - loss: 0.7014 - accuracy: 0.5333 - val_loss: 0.6873 - val_accuracy: 0.4857\n",
      "Epoch 2/4000\n",
      "1/1 [==============================] - 0s 27ms/step - loss: 0.6849 - accuracy: 0.5333 - val_loss: 0.6769 - val_accuracy: 0.4714\n",
      "Epoch 3/4000\n",
      "1/1 [==============================] - 0s 29ms/step - loss: 0.6688 - accuracy: 0.5333 - val_loss: 0.6669 - val_accuracy: 0.6429\n",
      "Epoch 4/4000\n",
      "1/1 [==============================] - 0s 28ms/step - loss: 0.6531 - accuracy: 0.8000 - val_loss: 0.6572 - val_accuracy: 0.6429\n",
      "Epoch 5/4000\n",
      "1/1 [==============================] - 0s 28ms/step - loss: 0.6379 - accuracy: 0.8000 - val_loss: 0.6479 - val_accuracy: 0.6857\n",
      "Epoch 6/4000\n",
      "1/1 [==============================] - 0s 27ms/step - loss: 0.6231 - accuracy: 0.8333 - val_loss: 0.6390 - val_accuracy: 0.6857\n",
      "Epoch 7/4000\n",
      "1/1 [==============================] - 0s 27ms/step - loss: 0.6088 - accuracy: 0.8667 - val_loss: 0.6304 - val_accuracy: 0.6857\n",
      "Epoch 8/4000\n",
      "1/1 [==============================] - 0s 29ms/step - loss: 0.5949 - accuracy: 0.8667 - val_loss: 0.6222 - val_accuracy: 0.7000\n",
      "Epoch 9/4000\n",
      "1/1 [==============================] - 0s 29ms/step - loss: 0.5814 - accuracy: 0.8667 - val_loss: 0.6142 - val_accuracy: 0.7143\n",
      "Epoch 10/4000\n",
      "1/1 [==============================] - 0s 26ms/step - loss: 0.5683 - accuracy: 0.8667 - val_loss: 0.6066 - val_accuracy: 0.7143\n",
      "Epoch 11/4000\n",
      "1/1 [==============================] - 0s 27ms/step - loss: 0.5557 - accuracy: 0.8667 - val_loss: 0.5993 - val_accuracy: 0.7143\n",
      "Epoch 12/4000\n",
      "1/1 [==============================] - 0s 28ms/step - loss: 0.5433 - accuracy: 0.8667 - val_loss: 0.5922 - val_accuracy: 0.7143\n",
      "Epoch 13/4000\n",
      "1/1 [==============================] - 0s 27ms/step - loss: 0.5314 - accuracy: 0.8667 - val_loss: 0.5854 - val_accuracy: 0.7143\n",
      "Epoch 14/4000\n",
      "1/1 [==============================] - 0s 26ms/step - loss: 0.5197 - accuracy: 0.8667 - val_loss: 0.5789 - val_accuracy: 0.7143\n",
      "Epoch 15/4000\n",
      "1/1 [==============================] - 0s 26ms/step - loss: 0.5085 - accuracy: 0.8667 - val_loss: 0.5726 - val_accuracy: 0.7143\n",
      "Epoch 16/4000\n",
      "1/1 [==============================] - 0s 26ms/step - loss: 0.4975 - accuracy: 0.8667 - val_loss: 0.5666 - val_accuracy: 0.7143\n",
      "Epoch 17/4000\n",
      "1/1 [==============================] - 0s 28ms/step - loss: 0.4869 - accuracy: 0.8667 - val_loss: 0.5608 - val_accuracy: 0.7143\n",
      "Epoch 18/4000\n",
      "1/1 [==============================] - 0s 26ms/step - loss: 0.4765 - accuracy: 0.8667 - val_loss: 0.5553 - val_accuracy: 0.7143\n",
      "Epoch 19/4000\n",
      "1/1 [==============================] - 0s 27ms/step - loss: 0.4665 - accuracy: 0.8667 - val_loss: 0.5499 - val_accuracy: 0.7143\n",
      "Epoch 20/4000\n",
      "1/1 [==============================] - 0s 28ms/step - loss: 0.4568 - accuracy: 0.8667 - val_loss: 0.5448 - val_accuracy: 0.7143\n",
      "Epoch 21/4000\n",
      "1/1 [==============================] - 0s 29ms/step - loss: 0.4473 - accuracy: 0.8667 - val_loss: 0.5398 - val_accuracy: 0.7143\n",
      "Epoch 22/4000\n",
      "1/1 [==============================] - 0s 28ms/step - loss: 0.4381 - accuracy: 0.8667 - val_loss: 0.5351 - val_accuracy: 0.7143\n",
      "Epoch 23/4000\n",
      "1/1 [==============================] - 0s 26ms/step - loss: 0.4292 - accuracy: 0.8667 - val_loss: 0.5305 - val_accuracy: 0.7143\n",
      "Epoch 24/4000\n",
      "1/1 [==============================] - 0s 28ms/step - loss: 0.4205 - accuracy: 0.8667 - val_loss: 0.5261 - val_accuracy: 0.7143\n",
      "Epoch 25/4000\n",
      "1/1 [==============================] - 0s 28ms/step - loss: 0.4121 - accuracy: 0.8667 - val_loss: 0.5219 - val_accuracy: 0.7143\n",
      "Epoch 26/4000\n",
      "1/1 [==============================] - 0s 27ms/step - loss: 0.4039 - accuracy: 0.8667 - val_loss: 0.5179 - val_accuracy: 0.7143\n",
      "Epoch 27/4000\n",
      "1/1 [==============================] - 0s 27ms/step - loss: 0.3959 - accuracy: 0.8667 - val_loss: 0.5140 - val_accuracy: 0.7143\n",
      "Epoch 28/4000\n",
      "1/1 [==============================] - 0s 27ms/step - loss: 0.3882 - accuracy: 0.8667 - val_loss: 0.5103 - val_accuracy: 0.7143\n",
      "Epoch 29/4000\n",
      "1/1 [==============================] - 0s 29ms/step - loss: 0.3807 - accuracy: 0.9000 - val_loss: 0.5067 - val_accuracy: 0.7143\n",
      "Epoch 30/4000\n",
      "1/1 [==============================] - 0s 27ms/step - loss: 0.3734 - accuracy: 0.9000 - val_loss: 0.5033 - val_accuracy: 0.7286\n",
      "Epoch 31/4000\n",
      "1/1 [==============================] - 0s 28ms/step - loss: 0.3664 - accuracy: 0.9000 - val_loss: 0.5000 - val_accuracy: 0.7286\n",
      "Epoch 32/4000\n",
      "1/1 [==============================] - 0s 28ms/step - loss: 0.3595 - accuracy: 0.9000 - val_loss: 0.4969 - val_accuracy: 0.7286\n",
      "Epoch 33/4000\n",
      "1/1 [==============================] - 0s 25ms/step - loss: 0.3529 - accuracy: 0.9000 - val_loss: 0.4939 - val_accuracy: 0.7286\n",
      "Epoch 34/4000\n",
      "1/1 [==============================] - 0s 27ms/step - loss: 0.3465 - accuracy: 0.9000 - val_loss: 0.4911 - val_accuracy: 0.7286\n",
      "Epoch 35/4000\n",
      "1/1 [==============================] - 0s 27ms/step - loss: 0.3403 - accuracy: 0.9000 - val_loss: 0.4883 - val_accuracy: 0.7286\n",
      "Epoch 36/4000\n",
      "1/1 [==============================] - 0s 29ms/step - loss: 0.3342 - accuracy: 0.9000 - val_loss: 0.4857 - val_accuracy: 0.7286\n",
      "Epoch 37/4000\n",
      "1/1 [==============================] - 0s 28ms/step - loss: 0.3284 - accuracy: 0.9000 - val_loss: 0.4832 - val_accuracy: 0.7286\n",
      "Epoch 38/4000\n",
      "1/1 [==============================] - 0s 28ms/step - loss: 0.3228 - accuracy: 0.9000 - val_loss: 0.4808 - val_accuracy: 0.7286\n",
      "Epoch 39/4000\n",
      "1/1 [==============================] - 0s 28ms/step - loss: 0.3173 - accuracy: 0.9000 - val_loss: 0.4785 - val_accuracy: 0.7286\n",
      "Epoch 40/4000\n",
      "1/1 [==============================] - 0s 27ms/step - loss: 0.3121 - accuracy: 0.9000 - val_loss: 0.4763 - val_accuracy: 0.7286\n",
      "Epoch 41/4000\n",
      "1/1 [==============================] - 0s 27ms/step - loss: 0.3070 - accuracy: 0.9000 - val_loss: 0.4742 - val_accuracy: 0.7286\n",
      "Epoch 42/4000\n",
      "1/1 [==============================] - 0s 28ms/step - loss: 0.3021 - accuracy: 0.9000 - val_loss: 0.4722 - val_accuracy: 0.7286\n",
      "Epoch 43/4000\n",
      "1/1 [==============================] - 0s 27ms/step - loss: 0.2974 - accuracy: 0.9000 - val_loss: 0.4703 - val_accuracy: 0.7286\n",
      "Epoch 44/4000\n"
     ]
    }
   ],
   "source": [
    "history=model.fit(X_train,Y_train,validation_data=(Xtest,Ytest),epochs=4000)"
   ]
  },
  {
   "cell_type": "code",
   "execution_count": null,
   "id": "785472b6",
   "metadata": {},
   "outputs": [],
   "source": [
    "from matplotlib import pyplot\n",
    "pyplot.plot(history.history['accuracy'],label='train')\n",
    "pyplot.plot(history.history['val_accuracy'],label='test')\n",
    "pyplot.legend()"
   ]
  },
  {
   "cell_type": "code",
   "execution_count": null,
   "id": "5230e7fb",
   "metadata": {},
   "outputs": [],
   "source": [
    "#L2 Regularisation"
   ]
  },
  {
   "cell_type": "code",
   "execution_count": null,
   "id": "1fca66f3",
   "metadata": {},
   "outputs": [],
   "source": [
    "from keras.regularizers import l2\n",
    "model_l2=Sequential()\n",
    "model_l2.add(Dense(500,input_dim=2,activation='relu',kernel_regularizer=l2(0.001)))\n",
    "model_l2.add(Dense(1,activation='sigmoid'))"
   ]
  },
  {
   "cell_type": "code",
   "execution_count": null,
   "id": "98994d52",
   "metadata": {},
   "outputs": [],
   "source": [
    "model_l2.compile(loss='binary_crossentropy',optimizer='adam',metrics='accuracy')"
   ]
  },
  {
   "cell_type": "code",
   "execution_count": null,
   "id": "8c94e204",
   "metadata": {},
   "outputs": [],
   "source": [
    "history2=model_l2.fit(X_train,Y_train,validation_data=(Xtest,Ytest),epochs=4000)"
   ]
  },
  {
   "cell_type": "code",
   "execution_count": null,
   "id": "94e868c6",
   "metadata": {},
   "outputs": [],
   "source": [
    "pyplot.plot(history2.history['accuracy'],label='train')\n",
    "pyplot.plot(history2.history['val_accuracy'],label='test')\n",
    "pyplot.legend()"
   ]
  },
  {
   "cell_type": "code",
   "execution_count": null,
   "id": "f9120ad0",
   "metadata": {},
   "outputs": [],
   "source": [
    "#l1 Regularization"
   ]
  },
  {
   "cell_type": "code",
   "execution_count": null,
   "id": "1ec06fff",
   "metadata": {},
   "outputs": [],
   "source": [
    "from keras.regularizers import l1\n",
    "model_l1=Sequential()\n",
    "model_l1.add(Dense(500,input_dim=2,activation='relu',kernel_regularizer=l1(0.0001)))\n",
    "model_l1.add(Dense(1,activation='sigmoid'))"
   ]
  },
  {
   "cell_type": "code",
   "execution_count": null,
   "id": "8b6cbc4e",
   "metadata": {},
   "outputs": [],
   "source": [
    "model_l1.compile(loss='binary_crossentropy',optimizer='adam',metrics='accuracy')"
   ]
  },
  {
   "cell_type": "code",
   "execution_count": null,
   "id": "bba3cfc4",
   "metadata": {},
   "outputs": [],
   "source": [
    "history3=model_l1.fit(X_train,Y_train,validation_data=(Xtest,Ytest),epochs=2000)"
   ]
  },
  {
   "cell_type": "code",
   "execution_count": null,
   "id": "d4f64bc6",
   "metadata": {},
   "outputs": [],
   "source": [
    "pyplot.plot(history3.history['accuracy'],label='train')\n",
    "pyplot.plot(history3.history['val_accuracy'],label='test')\n",
    "pyplot.legend()"
   ]
  },
  {
   "cell_type": "code",
   "execution_count": null,
   "id": "a3dd588a",
   "metadata": {},
   "outputs": [],
   "source": []
  }
 ],
 "metadata": {
  "kernelspec": {
   "display_name": "Python 3 (ipykernel)",
   "language": "python",
   "name": "python3"
  },
  "language_info": {
   "codemirror_mode": {
    "name": "ipython",
    "version": 3
   },
   "file_extension": ".py",
   "mimetype": "text/x-python",
   "name": "python",
   "nbconvert_exporter": "python",
   "pygments_lexer": "ipython3",
   "version": "3.10.9"
  }
 },
 "nbformat": 4,
 "nbformat_minor": 5
}
